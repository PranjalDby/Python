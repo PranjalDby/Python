{
 "cells": [
  {
   "cell_type": "code",
   "execution_count": 44,
   "metadata": {},
   "outputs": [
    {
     "name": "stdout",
     "output_type": "stream",
     "text": [
      "6 B p E v M\n"
     ]
    }
   ],
   "source": [
    "import random\n",
    "\n",
    "lis = list(\"123456789ABC#DEFGH@MILKabcdefghizklmnopqrstuvwxyz\")\n",
    "lengh = int(input('Enter the length of pass: ')) \n",
    "a= ' '.join(random.choices(lis,k=lengh))\n",
    "print(a)"
   ]
  }
 ],
 "metadata": {
  "kernelspec": {
   "display_name": "Python 3.10.7 64-bit",
   "language": "python",
   "name": "python3"
  },
  "language_info": {
   "codemirror_mode": {
    "name": "ipython",
    "version": 3
   },
   "file_extension": ".py",
   "mimetype": "text/x-python",
   "name": "python",
   "nbconvert_exporter": "python",
   "pygments_lexer": "ipython3",
   "version": "3.10.7"
  },
  "orig_nbformat": 4,
  "vscode": {
   "interpreter": {
    "hash": "9193c1a9913195caabc2c874ca2de0cb16dd52b286f913a03acced765754a1e1"
   }
  }
 },
 "nbformat": 4,
 "nbformat_minor": 2
}
