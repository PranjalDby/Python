{
 "cells": [
  {
   "cell_type": "code",
   "execution_count": null,
   "metadata": {},
   "outputs": [
    {
     "name": "stdout",
     "output_type": "stream",
     "text": [
      "Hello alex\n",
      "Hello alex\n",
      "Hello alex\n"
     ]
    },
    {
     "ename": "TypeError",
     "evalue": "stat: path should be string, bytes, os.PathLike or integer, not type",
     "output_type": "error",
     "traceback": [
      "\u001b[1;31m---------------------------------------------------------------------------\u001b[0m",
      "\u001b[1;31mTypeError\u001b[0m                                 Traceback (most recent call last)",
      "Cell \u001b[1;32mIn [21], line 26\u001b[0m\n\u001b[0;32m     21\u001b[0m greet(\u001b[39m'\u001b[39m\u001b[39malex\u001b[39m\u001b[39m'\u001b[39m)\n\u001b[0;32m     24\u001b[0m \u001b[39m# class decorators\u001b[39;00m\n\u001b[0;32m     25\u001b[0m \u001b[39m@check\u001b[39;49m\n\u001b[1;32m---> 26\u001b[0m \u001b[39mclass\u001b[39;49;00m \u001b[39mCount\u001b[39;49;00m:\n\u001b[0;32m     27\u001b[0m     \u001b[39mdef\u001b[39;49;00m \u001b[39m__init__\u001b[39;49m(\u001b[39mself\u001b[39;49m,func) \u001b[39m-\u001b[39;49m\u001b[39m>\u001b[39;49m \u001b[39mNone\u001b[39;49;00m:\n\u001b[0;32m     28\u001b[0m         \u001b[39mself\u001b[39;49m\u001b[39m.\u001b[39;49mfunc \u001b[39m=\u001b[39;49m func\n",
      "File \u001b[1;32mc:\\Users\\pranj\\AppData\\Local\\Programs\\Python\\Python310\\lib\\tabnanny.py:85\u001b[0m, in \u001b[0;36mcheck\u001b[1;34m(file)\u001b[0m\n\u001b[0;32m     75\u001b[0m \u001b[39mdef\u001b[39;00m \u001b[39mcheck\u001b[39m(file):\n\u001b[0;32m     76\u001b[0m     \u001b[39m\"\"\"check(file_or_dir)\u001b[39;00m\n\u001b[0;32m     77\u001b[0m \n\u001b[0;32m     78\u001b[0m \u001b[39m    If file_or_dir is a directory and not a symbolic link, then recursively\u001b[39;00m\n\u001b[1;32m   (...)\u001b[0m\n\u001b[0;32m     82\u001b[0m \u001b[39m    written to standard output using the print statement.\u001b[39;00m\n\u001b[0;32m     83\u001b[0m \u001b[39m    \"\"\"\u001b[39;00m\n\u001b[1;32m---> 85\u001b[0m     \u001b[39mif\u001b[39;00m os\u001b[39m.\u001b[39;49mpath\u001b[39m.\u001b[39;49misdir(file) \u001b[39mand\u001b[39;00m \u001b[39mnot\u001b[39;00m os\u001b[39m.\u001b[39mpath\u001b[39m.\u001b[39mislink(file):\n\u001b[0;32m     86\u001b[0m         \u001b[39mif\u001b[39;00m verbose:\n\u001b[0;32m     87\u001b[0m             \u001b[39mprint\u001b[39m(\u001b[39m\"\u001b[39m\u001b[39m%r\u001b[39;00m\u001b[39m: listing directory\u001b[39m\u001b[39m\"\u001b[39m \u001b[39m%\u001b[39m (file,))\n",
      "File \u001b[1;32mc:\\Users\\pranj\\AppData\\Local\\Programs\\Python\\Python310\\lib\\genericpath.py:42\u001b[0m, in \u001b[0;36misdir\u001b[1;34m(s)\u001b[0m\n\u001b[0;32m     40\u001b[0m \u001b[39m\"\"\"Return true if the pathname refers to an existing directory.\"\"\"\u001b[39;00m\n\u001b[0;32m     41\u001b[0m \u001b[39mtry\u001b[39;00m:\n\u001b[1;32m---> 42\u001b[0m     st \u001b[39m=\u001b[39m os\u001b[39m.\u001b[39;49mstat(s)\n\u001b[0;32m     43\u001b[0m \u001b[39mexcept\u001b[39;00m (\u001b[39mOSError\u001b[39;00m, \u001b[39mValueError\u001b[39;00m):\n\u001b[0;32m     44\u001b[0m     \u001b[39mreturn\u001b[39;00m \u001b[39mFalse\u001b[39;00m\n",
      "\u001b[1;31mTypeError\u001b[0m: stat: path should be string, bytes, os.PathLike or integer, not type"
     ]
    }
   ],
   "source": [
    "# decorators\n",
    "# two types of decorator::function decorators and class decorators\n",
    "import functools\n",
    "from tabnanny import check\n",
    "from unittest import result\n",
    "\n",
    "def repeat(num_time):\n",
    "    def decorator(func):\n",
    "        @functools.wraps(func)\n",
    "        def wrapper(*args,**kwargs):\n",
    "            for _ in range(num_time):\n",
    "                result = func(*args,**kwargs)\n",
    "            return result\n",
    "        return wrapper\n",
    "    return decorator\n",
    "\n",
    "@repeat(num_time = 3)\n",
    "def greet(name):\n",
    "    print(f'Hello {name}')\n",
    "\n",
    "greet('alex')\n",
    "\n",
    "\n",
    "# class decorators\n",
    "class Count:\n",
    "    def __init__(self,func) -> None:\n",
    "        self.func = func\n",
    "        self.num_calls = 0\n",
    "    def __call__(self, *args, **kwds):\n",
    "        self.num_calls +=1\n",
    "        print(f'{self.num_calls}')\n",
    "        return self.func(*args,**kwds)\n",
    "\n",
    "c = Count(None)\n",
    "@Count\n",
    "def sayhi():\n",
    "    print('hello')\n",
    "\n",
    "sayhi()\n",
    "sayhi()"
   ]
  }
 ],
 "metadata": {
  "kernelspec": {
   "display_name": "Python 3.11.0 64-bit",
   "language": "python",
   "name": "python3"
  },
  "language_info": {
   "codemirror_mode": {
    "name": "ipython",
    "version": 3
   },
   "file_extension": ".py",
   "mimetype": "text/x-python",
   "name": "python",
   "nbconvert_exporter": "python",
   "pygments_lexer": "ipython3",
   "version": "3.11.0"
  },
  "orig_nbformat": 4,
  "vscode": {
   "interpreter": {
    "hash": "746a360cdf7225042ffbcc98827042d3e18bc9758156f3a802de45b04c086cff"
   }
  }
 },
 "nbformat": 4,
 "nbformat_minor": 2
}
